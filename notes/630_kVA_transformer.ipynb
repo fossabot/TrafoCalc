{
 "cells": [
  {
   "cell_type": "code",
   "execution_count": 1,
   "id": "ebd7e707",
   "metadata": {},
   "outputs": [],
   "source": [
    "import os\n",
    "import sys\n",
    "parent_dir = os.path.split(os.getcwd())[0]\n",
    "if parent_dir not in sys.path:\n",
    "    sys.path.append(parent_dir)\n",
    "    \n",
    "from src.base_functions import turn_voltage"
   ]
  },
  {
   "cell_type": "markdown",
   "id": "1bca8758",
   "metadata": {},
   "source": [
    "The following code snippets try to check the correctness of the transformer parameters, defined by doi.org/10.1088/0953-2048/20/5/010\n",
    "\n",
    "The turn voltage calculated in 2 different ways:\n",
    "   - from the core parameters\n",
    "   - from the given line/phase voltages and turn number of the windings\n",
    "\n",
    "The given parameters of the transformer core are:\n",
    " - the core diameter is 396 mm, the core radius is 198 mm\n",
    " - the flux density in the core is 1.275 T\n",
    " - the filling factor of the core was not given, we calculating by a usual 88 %\n",
    " - the network frequency is 50 Hz\n",
    " \n",
    "Using the turn voltage base function of the library:"
   ]
  },
  {
   "cell_type": "code",
   "execution_count": 16,
   "id": "127ef7f2",
   "metadata": {},
   "outputs": [
    {
     "name": "stdout",
     "output_type": "stream",
     "text": [
      "turn voltage: 30.68 V\n"
     ]
    }
   ],
   "source": [
    "ut = turn_voltage(1.275, 198.0, 0.88, 50.0)\n",
    "print('turn voltage:',round(ut,2), 'V')"
   ]
  },
  {
   "cell_type": "markdown",
   "id": "ae8a3810",
   "metadata": {},
   "source": [
    "Turn voltage can be calculated from the winding parameters of the star/star connected three phase transformer:"
   ]
  },
  {
   "cell_type": "code",
   "execution_count": 14,
   "id": "ce286072",
   "metadata": {},
   "outputs": [
    {
     "name": "stdout",
     "output_type": "stream",
     "text": [
      "Turn voltage from primary winding data:  23.17 V\n",
      "Turn voltage from secondary winding data: 23.12 V\n"
     ]
    }
   ],
   "source": [
    "Np = 262.0 # turns in the primary winding\n",
    "Up = 10500 # V \n",
    "utp = Up/Np/1.73\n",
    "print(\"Turn voltage from primary winding data: \", round(utp,2), \"V\")\n",
    "\n",
    "# secondary winding\n",
    "Ns = 10\n",
    "Us = 400\n",
    "uts= Us/1.73/Ns\n",
    "print(\"Turn voltage from secondary winding data:\",round(uts,2), \"V\")"
   ]
  },
  {
   "cell_type": "markdown",
   "id": "998e1c7f",
   "metadata": {},
   "source": [
    "Therefore, some parameter of the core is wrong, maybe the flux density of the core is a bit lower in the practice, in this case the flux density should be 0.963 T"
   ]
  },
  {
   "cell_type": "code",
   "execution_count": 4,
   "id": "4c03c191",
   "metadata": {},
   "outputs": [
    {
     "name": "stdout",
     "output_type": "stream",
     "text": [
      "30.677932291307098\n"
     ]
    }
   ],
   "source": [
    "ut = turn_voltage(1.275, 198.0, 0.88, 50.0)\n",
    "print(ut)"
   ]
  },
  {
   "cell_type": "code",
   "execution_count": 5,
   "id": "3482b1da",
   "metadata": {
    "scrolled": true
   },
   "outputs": [
    {
     "name": "stdout",
     "output_type": "stream",
     "text": [
      "Mesh Generator: Initial mesh generation\n",
      "Mesh generator: Triangle\n",
      "Mesh Generator: Reading initial mesh from memory\n",
      "Solver: Solver - MUMPS (none)\n",
      "Solver: Elapsed time: 00:01.707 s\n",
      "0.02302695201853413 0.016638417127457783\n"
     ]
    }
   ],
   "source": [
    "from importlib_resources import files\n",
    "from src.two_winding_model import TransformerDesign, TwoWindingModel\n",
    "\n",
    "path = files(\"data\").joinpath(\"630kVA_sc_transformer.json\")\n",
    "\n",
    "import json\n",
    "\n",
    "with open(path) as json_file:\n",
    "    data = json.load(json_file)\n",
    "\n",
    "transformer = TransformerDesign.from_dict(data)\n",
    "\n",
    "trafo_model = TwoWindingModel(input=transformer)\n",
    "trafo_model.calculate(is_sc=True)\n",
    "\n",
    "# FEM calculation\n",
    "trafo_model.fem_simulation()"
   ]
  },
  {
   "cell_type": "markdown",
   "id": "7e6581f3",
   "metadata": {},
   "source": [
    "The following command can list the main results of the calculation:"
   ]
  },
  {
   "cell_type": "code",
   "execution_count": 6,
   "id": "01690f90",
   "metadata": {
    "scrolled": false
   },
   "outputs": [
    {
     "name": "stdout",
     "output_type": "stream",
     "text": [
      "MainResults(wh=809.5, feasible=True, core_loss=2.4095115858526066, load_loss=275997499249627.62, copper_mass=0.0, sci=0.016699122467986466, window_width=139.24546492552605, core_mass=4981.568642674868, turn_voltage=30.677932291307098, capitalized_cost=0.0, fem_based_sci=2.2771026207976126, fem_bax=0.02302695201853413, fem_brad=0.016638417127457783)\n",
      "analytical sci: 0.016699122467986466\n"
     ]
    }
   ],
   "source": [
    "print(trafo_model.results)\n",
    "print('analytical sci:', trafo_model.results.sci)"
   ]
  },
  {
   "cell_type": "markdown",
   "id": "8c0b8cdb",
   "metadata": {},
   "source": [
    "The resulting fem-based short circuit impedance is 2.28 %, which is very close to the given 2.45 %, however, the analytically calculated sci is only 1.7%. The reason is that the analytical formula contains the turn voltage, which is different, the core somehow not sized properly. "
   ]
  },
  {
   "cell_type": "code",
   "execution_count": 7,
   "id": "cf54e40c",
   "metadata": {},
   "outputs": [
    {
     "name": "stdout",
     "output_type": "stream",
     "text": [
      "WindingDesign(inner_radius=288.5381603296059, thickness=10.207304595920151, winding_height=354.83, filling_factor=50.0, current_density=3.78, mass=64.15055287405289, dc_loss=0.0, ac_loss=10357905069120.916, outer_radius=298.74546492552605, cable_length=7886328785657.566)\n"
     ]
    }
   ],
   "source": [
    "print(trafo_model.hv_winding)"
   ]
  },
  {
   "cell_type": "code",
   "execution_count": 8,
   "id": "475138aa",
   "metadata": {},
   "outputs": [
    {
     "name": "stdout",
     "output_type": "stream",
     "text": [
      "WindingDesign(inner_radius=244.0, thickness=6.038160329605889, winding_height=342.5, filling_factor=50.0, current_density=6.62, mass=30.8139105809291, dc_loss=0.0, ac_loss=4975289320300.441, outer_radius=250.0381603296059, cable_length=3788098763391.1665)\n"
     ]
    }
   ],
   "source": [
    "print(trafo_model.lv_winding)"
   ]
  },
  {
   "cell_type": "code",
   "execution_count": 9,
   "id": "fb2d3bc8",
   "metadata": {},
   "outputs": [
    {
     "name": "stdout",
     "output_type": "stream",
     "text": [
      "629.24944\n",
      "23.16551206812867\n",
      "23.121387283236995\n"
     ]
    }
   ],
   "source": [
    "i1 = 909.32\n",
    "i2 = 34.64\n",
    "u1 = 0.4\n",
    "u2 = 10.5\n",
    "s1 = 1.73 * u1 * i1\n",
    "ratio = i1/i2\n",
    "print(s1)\n",
    "print(10500/262/1.73)\n",
    "print(400/10/1.73)"
   ]
  },
  {
   "cell_type": "code",
   "execution_count": 10,
   "id": "08d005a4",
   "metadata": {},
   "outputs": [
    {
     "name": "stdout",
     "output_type": "stream",
     "text": [
      "3.3186861313868614\n"
     ]
    }
   ],
   "source": [
    "jlv=i1*10/8/342.5\n",
    "print(jlv)"
   ]
  },
  {
   "cell_type": "code",
   "execution_count": 11,
   "id": "34f78f87",
   "metadata": {},
   "outputs": [
    {
     "name": "stdout",
     "output_type": "stream",
     "text": [
      "1.8937256129368805\n"
     ]
    }
   ],
   "source": [
    "print(i2*262/13.5/355)\n"
   ]
  },
  {
   "cell_type": "code",
   "execution_count": null,
   "id": "70926c1d",
   "metadata": {},
   "outputs": [],
   "source": []
  }
 ],
 "metadata": {
  "kernelspec": {
   "display_name": "Python 3 (ipykernel)",
   "language": "python",
   "name": "python3"
  },
  "language_info": {
   "codemirror_mode": {
    "name": "ipython",
    "version": 3
   },
   "file_extension": ".py",
   "mimetype": "text/x-python",
   "name": "python",
   "nbconvert_exporter": "python",
   "pygments_lexer": "ipython3",
   "version": "3.8.10"
  }
 },
 "nbformat": 4,
 "nbformat_minor": 5
}
