{
 "cells": [
  {
   "cell_type": "code",
   "execution_count": 14,
   "id": "215f3ecf",
   "metadata": {},
   "outputs": [],
   "source": [
    "import os\n",
    "import sys\n",
    "parent_dir = os.path.split(os.getcwd())[0]\n",
    "if nb_dir not in sys.path:\n",
    "    sys.path.append(parent_dir)\n",
    "    \n",
    "from src.base_functions import turn_voltage"
   ]
  },
  {
   "cell_type": "markdown",
   "id": "f22884a4",
   "metadata": {},
   "source": [
    "The following code snippets try to check the correctness of the transformer parameters, defined by doi.org/10.1088/0953-2048/20/5/010\n",
    "\n",
    "The turn voltage calculated in 2 different ways:\n",
    "   - from the core parameters\n",
    "   - from the given line/phase voltages and turn number of the windings\n",
    "\n",
    "The given parameters of the transformer core are:\n",
    " - the core diameter is 396 mm, the core radius is 198 mm\n",
    " - the flux density in the core is 1.275 T\n",
    " - the filling factor of the core was not given, we calculating by a usual 88 %\n",
    " - the network frequency is 50 Hz\n",
    " \n",
    "Using the turn voltage base function of the library:"
   ]
  },
  {
   "cell_type": "code",
   "execution_count": 32,
   "id": "4635bba2",
   "metadata": {},
   "outputs": [
    {
     "name": "stdout",
     "output_type": "stream",
     "text": [
      "30.68 V\n"
     ]
    }
   ],
   "source": [
    "ut = turn_voltage(1.275, 198.0, 0.88, 50.0)\n",
    "print(round(ut,2), 'V')"
   ]
  },
  {
   "cell_type": "markdown",
   "id": "c94f3d3a",
   "metadata": {},
   "source": [
    "Turn voltage can be calculated from the winding parameters of the star/star connected three phase transformer:"
   ]
  },
  {
   "cell_type": "code",
   "execution_count": 34,
   "id": "20b0d508",
   "metadata": {},
   "outputs": [
    {
     "name": "stdout",
     "output_type": "stream",
     "text": [
      "Turn voltage from primary winding data:  23.17 V\n",
      "Turn voltage from secondary winding data: 23.12 V\n"
     ]
    }
   ],
   "source": [
    "Np = 262.0 # turns in the primary winding\n",
    "Up = 10500 # V \n",
    "utp = Up/Np/1.73\n",
    "print(\"Turn voltage from primary winding data: \", round(utp,2), \"V\")\n",
    "\n",
    "# secondary winding\n",
    "Ns = 10\n",
    "Us = 400\n",
    "uts= Us/1.73/Ns\n",
    "print(\"Turn voltage from secondary winding data:\",round(uts,2), \"V\")"
   ]
  },
  {
   "cell_type": "markdown",
   "id": "3c22e8c4",
   "metadata": {},
   "source": [
    "Therefore, some parameter of the core is wrong, maybe the flux density of the core is a bit lower in the practice, in this case the flux density should be 0.963 T"
   ]
  },
  {
   "cell_type": "code",
   "execution_count": null,
   "id": "7ecc76e4",
   "metadata": {},
   "outputs": [],
   "source": [
    "ut = turn_voltage(0.963, 198.0, 0.88, 50.0)\n",
    "print(ut)"
   ]
  }
 ],
 "metadata": {
  "kernelspec": {
   "display_name": "Python 3 (ipykernel)",
   "language": "python",
   "name": "python3"
  },
  "language_info": {
   "codemirror_mode": {
    "name": "ipython",
    "version": 3
   },
   "file_extension": ".py",
   "mimetype": "text/x-python",
   "name": "python",
   "nbconvert_exporter": "python",
   "pygments_lexer": "ipython3",
   "version": "3.8.10"
  }
 },
 "nbformat": 4,
 "nbformat_minor": 5
}
