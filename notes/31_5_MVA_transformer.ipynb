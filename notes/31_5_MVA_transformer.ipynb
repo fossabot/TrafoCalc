{
 "cells": [
  {
   "cell_type": "code",
   "execution_count": 1,
   "id": "1d647747",
   "metadata": {},
   "outputs": [],
   "source": [
    "import os\n",
    "import sys\n",
    "parent_dir = os.path.split(os.getcwd())[0]\n",
    "if parent_dir not in sys.path:\n",
    "    sys.path.append(parent_dir)"
   ]
  },
  {
   "cell_type": "code",
   "execution_count": 2,
   "id": "ff02a436",
   "metadata": {
    "scrolled": true
   },
   "outputs": [
    {
     "name": "stdout",
     "output_type": "stream",
     "text": [
      "Mesh Generator: Initial mesh generation\n",
      "Mesh generator: Triangle\n",
      "Mesh Generator: Reading initial mesh from memory\n",
      "Solver: Solver - MUMPS (none)\n",
      "Solver: Elapsed time: 00:00.999 s\n",
      "Magnetic Energy 2430.939562570555\n",
      "L: 0.25612511527273985\n",
      "zb, ib: 553.1428571428571 137.77676878388797\n",
      "14.546708325890364\n",
      "0.13731516050600978 0.002070480952358622\n"
     ]
    }
   ],
   "source": [
    "from importlib_resources import files\n",
    "from src.two_winding_model import TransformerDesign, TwoWindingModel\n",
    "\n",
    "path = files(\"data\").joinpath(\"31_5_MVA_example.json\")\n",
    "\n",
    "import json\n",
    "\n",
    "with open(path) as json_file:\n",
    "    data = json.load(json_file)\n",
    "\n",
    "transformer = TransformerDesign.from_dict(data)\n",
    "\n",
    "trafo_model = TwoWindingModel(input=transformer)\n",
    "trafo_model.calculate(is_sc=False)\n",
    "\n",
    "# FEM calculation\n",
    "trafo_model.fem_simulation()"
   ]
  },
  {
   "cell_type": "code",
   "execution_count": 3,
   "id": "c640863a",
   "metadata": {
    "scrolled": false
   },
   "outputs": [
    {
     "name": "stdout",
     "output_type": "stream",
     "text": [
      "MainResults(wh=1560.0, feasible=True, core_loss=15.3, load_loss=96.74742229098425, copper_mass=0.0, sci=14.49, window_width=293.1, core_mass=17256.1, turn_voltage=76.11, capitalized_cost=0.0, fem_based_sci=14.546708325890364, fem_bax=0.13731516050600978, fem_brad=0.002070480952358622)\n"
     ]
    }
   ],
   "source": [
    "print(trafo_model.results)"
   ]
  },
  {
   "cell_type": "code",
   "execution_count": 4,
   "id": "e04efe49",
   "metadata": {},
   "outputs": [
    {
     "name": "stdout",
     "output_type": "stream",
     "text": [
      "WindingDesign(inner_radius=424.65, thickness=98.5, winding_height=1260.0, filling_factor=57.0, current_density=1.95, mass=5624.2, dc_loss=51.8, ac_loss=4.281011968341256, outer_radius=523.15, cable_length=0.0)\n"
     ]
    }
   ],
   "source": [
    "print(trafo_model.hv_winding)\n"
   ]
  },
  {
   "cell_type": "code",
   "execution_count": 5,
   "id": "ab7b50f7",
   "metadata": {},
   "outputs": [
    {
     "name": "stdout",
     "output_type": "stream",
     "text": [
      "WindingDesign(inner_radius=303.0, thickness=71.6, winding_height=1260.0, filling_factor=76.5, current_density=2.0, mass=3922.6, dc_loss=38.0, ac_loss=2.6664103226429976, outer_radius=374.6, cable_length=0.0)\n"
     ]
    }
   ],
   "source": [
    "print(trafo_model.lv_winding)"
   ]
  },
  {
   "cell_type": "code",
   "execution_count": null,
   "id": "df79546f",
   "metadata": {},
   "outputs": [],
   "source": []
  }
 ],
 "metadata": {
  "kernelspec": {
   "display_name": "Python 3 (ipykernel)",
   "language": "python",
   "name": "python3"
  },
  "language_info": {
   "codemirror_mode": {
    "name": "ipython",
    "version": 3
   },
   "file_extension": ".py",
   "mimetype": "text/x-python",
   "name": "python",
   "nbconvert_exporter": "python",
   "pygments_lexer": "ipython3",
   "version": "3.8.10"
  }
 },
 "nbformat": 4,
 "nbformat_minor": 5
}
