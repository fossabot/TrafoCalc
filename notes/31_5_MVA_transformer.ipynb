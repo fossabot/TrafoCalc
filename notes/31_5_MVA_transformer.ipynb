{
 "cells": [
  {
   "cell_type": "code",
   "execution_count": 1,
   "id": "1d647747",
   "metadata": {},
   "outputs": [],
   "source": [
    "import os\n",
    "import sys\n",
    "parent_dir = os.path.split(os.getcwd())[0]\n",
    "if parent_dir not in sys.path:\n",
    "    sys.path.append(parent_dir)"
   ]
  },
  {
   "cell_type": "code",
   "execution_count": 2,
   "id": "ff02a436",
   "metadata": {
    "scrolled": true
   },
   "outputs": [
    {
     "name": "stdout",
     "output_type": "stream",
     "text": [
      "Mesh Generator: Initial mesh generation\n",
      "Mesh generator: Triangle\n",
      "Mesh Generator: Reading initial mesh from memory\n",
      "Solver: Solver - MUMPS (none)\n",
      "Solver: Adaptivity step: 1 (error: 100 %, DOFs: 75473)\n",
      "Solver: Solver - MUMPS (none)\n",
      "Solver: Adaptivity step: 2 (error: 127.757 %, DOFs: 69459)\n",
      "Solver: Solver - MUMPS (none)\n",
      "Solver: Adaptivity step: 3 (error: 2.74839e-06 %, DOFs: 78481)\n",
      "Solver: Elapsed time: 00:05.517 s\n",
      "{'Flx': -534.1771066131589, 'Fly': 0.0010632994233089749, 'Ftx': 5642.903827337003, 'Fty': 0.1219054555047851, 'Ier': -3.8489744724756747e-10, 'Iivr': 0.0, 'Ir': -3.8489744724756747e-10, 'Pj': 48706.95727507993, 'S': 0.4571785793455485, 'Tl': 0.0, 'Tt': 0.0, 'V': 1.2252281034533479, 'Wm': 2168.313527559154}\n",
      "2168.313527559154\n",
      "L: 0.22845469329820528\n",
      "zb, ib: 553.1428571428571 137.77676878388797\n",
      "12.975157807350874\n",
      "0.10887065662017564 0.05746617937014609\n"
     ]
    }
   ],
   "source": [
    "from importlib_resources import files\n",
    "from src.two_winding_model import TransformerDesign, TwoWindingModel\n",
    "\n",
    "path = files(\"data\").joinpath(\"31_5_MVA_example.json\")\n",
    "\n",
    "import json\n",
    "\n",
    "with open(path) as json_file:\n",
    "    data = json.load(json_file)\n",
    "\n",
    "transformer = TransformerDesign.from_dict(data)\n",
    "\n",
    "trafo_model = TwoWindingModel(input=transformer)\n",
    "trafo_model.calculate(is_sc=False)\n",
    "\n",
    "# FEM calculation\n",
    "trafo_model.fem_simulation()"
   ]
  },
  {
   "cell_type": "code",
   "execution_count": 3,
   "id": "c640863a",
   "metadata": {
    "scrolled": false
   },
   "outputs": [
    {
     "name": "stdout",
     "output_type": "stream",
     "text": [
      "MainResults(wh=1560.0, feasible=True, core_loss=15.26382461947647, load_loss=96.63311228770519, copper_mass=0.0, sci=0.14484840253177686, window_width=293.06319188817304, core_mass=17255.631048159954, turn_voltage=76.1128782095419, capitalized_cost=0.0, fem_based_sci=12.975157807350874, fem_bax=0.10887065662017564, fem_brad=0.05746617937014609)\n"
     ]
    }
   ],
   "source": [
    "print(trafo_model.results)"
   ]
  },
  {
   "cell_type": "code",
   "execution_count": 4,
   "id": "e04efe49",
   "metadata": {},
   "outputs": [
    {
     "name": "stdout",
     "output_type": "stream",
     "text": [
      "WindingDesign(inner_radius=424.5598098745804, thickness=98.50338201359256, winding_height=1260.0, filling_factor=57.0, current_density=1.95, mass=5623.326116679847, dc_loss=51.746128091993775, ac_loss=4.27655972349701, outer_radius=523.0631918881729, cable_length=0.0)\n"
     ]
    }
   ],
   "source": [
    "print(trafo_model.hv_winding)\n"
   ]
  },
  {
   "cell_type": "code",
   "execution_count": 5,
   "id": "ab7b50f7",
   "metadata": {},
   "outputs": [
    {
     "name": "stdout",
     "output_type": "stream",
     "text": [
      "WindingDesign(inner_radius=303.0, thickness=71.55980987458047, winding_height=1260.0, filling_factor=76.5, current_density=2.0, mass=3920.2153949492335, dc_loss=37.947685023108576, ac_loss=2.6627394491058363, outer_radius=374.5598098745805, cable_length=0.0)\n"
     ]
    }
   ],
   "source": [
    "print(trafo_model.lv_winding)"
   ]
  },
  {
   "cell_type": "code",
   "execution_count": null,
   "id": "df79546f",
   "metadata": {},
   "outputs": [],
   "source": []
  }
 ],
 "metadata": {
  "kernelspec": {
   "display_name": "Python 3 (ipykernel)",
   "language": "python",
   "name": "python3"
  },
  "language_info": {
   "codemirror_mode": {
    "name": "ipython",
    "version": 3
   },
   "file_extension": ".py",
   "mimetype": "text/x-python",
   "name": "python",
   "nbconvert_exporter": "python",
   "pygments_lexer": "ipython3",
   "version": "3.8.10"
  }
 },
 "nbformat": 4,
 "nbformat_minor": 5
}
