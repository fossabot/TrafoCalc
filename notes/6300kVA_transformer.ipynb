{
 "cells": [
  {
   "cell_type": "code",
   "execution_count": 1,
   "id": "2a414e20",
   "metadata": {},
   "outputs": [],
   "source": [
    "import os\n",
    "import sys\n",
    "parent_dir = os.path.split(os.getcwd())[0]\n",
    "if parent_dir not in sys.path:\n",
    "    sys.path.append(parent_dir)"
   ]
  },
  {
   "cell_type": "markdown",
   "id": "c2f1245d",
   "metadata": {},
   "source": [
    "The following code snippet shows, how you can import a transformer design, which is stored in a json and perform a calculation to estimate the main paramters. The transformer was originally published as a validation example in https://doi.org/10.3390/app10041361"
   ]
  },
  {
   "cell_type": "code",
   "execution_count": 2,
   "id": "f153b777",
   "metadata": {},
   "outputs": [
    {
     "name": "stdout",
     "output_type": "stream",
     "text": [
      "Mesh Generator: Initial mesh generation\n",
      "228.33760931074102\n",
      "L: 0.0375902730974145\n",
      "zb, ib: 172.85714285714286 110.22141502711038\n",
      "6.831845294751241\n",
      "Mesh generator: Triangle\n",
      "Mesh Generator: Reading initial mesh from memory\n",
      "Solver: Solver - MUMPS (none)\n",
      "Solver: Adaptivity step: 1 (error: 100 %, DOFs: 90345)\n",
      "Solver: Solver - MUMPS (none)\n",
      "Solver: Adaptivity step: 2 (error: 97.7042 %, DOFs: 84243)\n",
      "Solver: Solver - MUMPS (none)\n",
      "Solver: Adaptivity step: 3 (error: 1.18081 %, DOFs: 92565)\n",
      "Solver: Solver - MUMPS (none)\n",
      "Solver: Adaptivity step: 4 (error: 7.59764e-07 %, DOFs: 108619)\n",
      "Solver: Elapsed time: 00:11.053 s\n",
      "0.06985153539437977 0.040392134365534904\n"
     ]
    }
   ],
   "source": [
    "from importlib_resources import files\n",
    "from src.two_winding_model import TransformerDesign, TwoWindingModel\n",
    "\n",
    "path = files(\"data\").joinpath(\"6300_kVA_example.json\")\n",
    "\n",
    "import json\n",
    "\n",
    "with open(path) as json_file:\n",
    "    data = json.load(json_file)\n",
    "\n",
    "transformer = TransformerDesign.from_dict(data)\n",
    "\n",
    "trafo_model = TwoWindingModel(input=transformer)\n",
    "trafo_model.calculate(is_sc=True)\n",
    "\n",
    "# FEM calculation\n",
    "trafo_model.fem_simulation()\n"
   ]
  },
  {
   "cell_type": "code",
   "execution_count": 3,
   "id": "eec1f369",
   "metadata": {},
   "outputs": [
    {
     "name": "stdout",
     "output_type": "stream",
     "text": [
      "MainResults(wh=1129.0, feasible=True, core_loss=3.9436905094017765, load_loss=551085.650292301, copper_mass=0.0, sci=0.07476243358140913, window_width=152.61599937815794, core_mass=4720.830691266348, turn_voltage=31.026198745789742, capitalized_cost=0.0, fem_based_sci=6.831845294751241, fem_bax=0.06985153539437977, fem_brad=0.040392134365534904)\n"
     ]
    }
   ],
   "source": [
    "print(trafo_model.results)"
   ]
  },
  {
   "cell_type": "code",
   "execution_count": 4,
   "id": "17b2fa24",
   "metadata": {},
   "outputs": [
    {
     "name": "stdout",
     "output_type": "stream",
     "text": [
      "WindingDesign(inner_radius=267.4904947421336, thickness=42.42550463602433, winding_height=949.63, filling_factor=56.0, current_density=3.0, mass=0.0, dc_loss=0.0, ac_loss=0.0, outer_radius=0.0, cable_length=0.0)\n"
     ]
    }
   ],
   "source": [
    "print(trafo_model.hv_winding)"
   ]
  },
  {
   "cell_type": "code",
   "execution_count": null,
   "id": "fc9df29b",
   "metadata": {},
   "outputs": [],
   "source": []
  }
 ],
 "metadata": {
  "kernelspec": {
   "display_name": "Python 3 (ipykernel)",
   "language": "python",
   "name": "python3"
  },
  "language_info": {
   "codemirror_mode": {
    "name": "ipython",
    "version": 3
   },
   "file_extension": ".py",
   "mimetype": "text/x-python",
   "name": "python",
   "nbconvert_exporter": "python",
   "pygments_lexer": "ipython3",
   "version": "3.8.10"
  }
 },
 "nbformat": 4,
 "nbformat_minor": 5
}
