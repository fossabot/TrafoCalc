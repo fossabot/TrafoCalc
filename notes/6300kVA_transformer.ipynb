{
 "cells": [
  {
   "cell_type": "code",
   "execution_count": 3,
   "id": "d7959937",
   "metadata": {},
   "outputs": [],
   "source": [
    "import os\n",
    "import sys\n",
    "parent_dir = os.path.split(os.getcwd())[0]\n",
    "if parent_dir not in sys.path:\n",
    "    sys.path.append(parent_dir)"
   ]
  },
  {
   "cell_type": "markdown",
   "id": "330e4b50",
   "metadata": {},
   "source": [
    "The following code snippet shows, how you can import a transformer design, which is stored in a json and perform a calculation to estimate the main paramters. The transformer was originally published as a validation example in https://doi.org/10.3390/app10041361"
   ]
  },
  {
   "cell_type": "code",
   "execution_count": 5,
   "id": "2d8d5df3",
   "metadata": {},
   "outputs": [
    {
     "name": "stdout",
     "output_type": "stream",
     "text": [
      "Mesh Generator: Initial mesh generation\n",
      "Mesh generator: Triangle\n",
      "Mesh Generator: Reading initial mesh from memory\n",
      "Solver: Solver - MUMPS (none)\n",
      "Solver: Elapsed time: 00:02.654 s\n",
      "0.07127001732355258 0.039963496153389455\n"
     ]
    }
   ],
   "source": [
    "from importlib_resources import files\n",
    "from src.two_winding_model import TransformerDesign, TwoWindingModel\n",
    "\n",
    "path = files(\"data\").joinpath(\"6300_kVA_example.json\")\n",
    "\n",
    "import json\n",
    "\n",
    "with open(path) as json_file:\n",
    "    data = json.load(json_file)\n",
    "\n",
    "transformer = TransformerDesign.from_dict(data)\n",
    "\n",
    "trafo_model = TwoWindingModel(input=transformer)\n",
    "trafo_model.calculate(is_sc=True)\n",
    "\n",
    "# FEM calculation\n",
    "trafo_model.fem_simulation()\n"
   ]
  },
  {
   "cell_type": "code",
   "execution_count": 6,
   "id": "65cf8972",
   "metadata": {},
   "outputs": [
    {
     "name": "stdout",
     "output_type": "stream",
     "text": [
      "MainResults(wh=1129.0, feasible=True, core_loss=3.9710316488594786, load_loss=43.33366393515664, copper_mass=0.0, sci=0.07638360476747567, window_width=158.6159993781579, core_mass=4753.559651609053, turn_voltage=31.026198745789742, capitalized_cost=0.0, fem_based_sci=7.198227453361595, fem_bax=0.07127001732355258, fem_brad=0.039963496153389455)\n"
     ]
    }
   ],
   "source": [
    "print(trafo_model.results)"
   ]
  }
 ],
 "metadata": {
  "kernelspec": {
   "display_name": "Python 3 (ipykernel)",
   "language": "python",
   "name": "python3"
  },
  "language_info": {
   "codemirror_mode": {
    "name": "ipython",
    "version": 3
   },
   "file_extension": ".py",
   "mimetype": "text/x-python",
   "name": "python",
   "nbconvert_exporter": "python",
   "pygments_lexer": "ipython3",
   "version": "3.8.10"
  }
 },
 "nbformat": 4,
 "nbformat_minor": 5
}
