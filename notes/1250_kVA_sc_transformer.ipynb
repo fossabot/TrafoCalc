{
 "cells": [
  {
   "cell_type": "markdown",
   "id": "fa80a802",
   "metadata": {},
   "source": [
    "Analysis of the winding parameters of a 1250 kVA Superconducting Transformer\n",
    "-------------------------------------------------------------------------------------------------------------------\n",
    "\n",
    "The transformer and its parameters originally published in DOI:10.1109/TASC.2014.2345349.\n",
    "\n",
    "Main parameters of the  transformer:\n",
    "\n",
    "- $S_n$ = 1250 kVA - nominal power\n",
    "- $f$ = 50 Hz - network frequency\n",
    "- $\\epsilon$ = 5.8 % - short circuit impedance\n",
    "- $U_1 / U_2$ = 10.5 kV / 0.4 kV\n",
    "- $I_1 / I_2$ = 69 A / 1804 A\n",
    "- Connection group: YNyn0\n",
    "\n",
    "Independent design parameters for the two-winding transformer model:\n",
    "\n",
    "- $r_c$ core radius : 155 mm\n",
    "- $b_c$ flux density: 1.5 T\n",
    "- $j_{in}$ current density in the inner winding: 4.05 $A/mm^2$ -- 100% filling factor assumed\n",
    "- $j_{ou}$ current density in the outer winding: 6.2 $A/mm^2$\n",
    "- $h_{in}$ the height of the inner winding: 342.5 mm\n",
    "- $m_{gap}$ main gap - the distance between two main windings: 34.5 mm\n",
    "\n",
    "Cooling System:\n",
    "\n",
    "- Cryostat inner / outer diameter: 330/740 mm\n",
    "- Operation temperature: 77 K\n"
   ]
  },
  {
   "cell_type": "code",
   "execution_count": 1,
   "id": "ebd7e707",
   "metadata": {},
   "outputs": [],
   "source": [
    "import os\n",
    "import sys\n",
    "parent_dir = os.path.split(os.getcwd())[0]\n",
    "if parent_dir not in sys.path:\n",
    "    sys.path.append(parent_dir)\n",
    "    \n",
    "from src.base_functions import turn_voltage,short_circuit_impedance"
   ]
  },
  {
   "cell_type": "markdown",
   "id": "1bca8758",
   "metadata": {},
   "source": [
    "Calculating the turn voltage from the winding parameters:"
   ]
  },
  {
   "cell_type": "code",
   "execution_count": 2,
   "id": "ce286072",
   "metadata": {
    "scrolled": true
   },
   "outputs": [
    {
     "name": "stdout",
     "output_type": "stream",
     "text": [
      "Turn voltage from primary winding data:  23.17 V\n",
      "Turn voltage from secondary winding data: 23.12 V\n",
      "Filling factor in LV (primary) winding 8.7 %\n",
      "Filling factor in HV (secondary) winding 11.9 %\n",
      "Amperturns should balanced: 18078.0 18040.0\n",
      "44.921875 402.432 4623.75\n",
      "53.38541666666667 337.91999999999996 2840\n"
     ]
    }
   ],
   "source": [
    "# seconday - outer, primary inner winding\n",
    "Np = 262.0 # turns in the primary winding\n",
    "Up = 10500 # V \n",
    "utp = Up/Np/1.73\n",
    "print(\"Turn voltage from primary winding data: \", round(utp,2), \"V\")\n",
    "\n",
    "# secondary winding\n",
    "Ns = 10\n",
    "Us = 400\n",
    "uts= Us/1.73/Ns\n",
    "print(\"Turn voltage from secondary winding data:\",round(uts,2), \"V\")\n",
    "\n",
    "# BSSCO tape dimensions\n",
    "w = 4.8  # mm\n",
    "h = 0.32 # mm\n",
    "A = 4.8*0.32 # 1.536 mm2\n",
    "\n",
    "# Winding areas\n",
    "a_lv = 13.5 * 342.5 # mm\n",
    "a_hv = 8* 355\n",
    "\n",
    "Nd = 22 # number of discs/pancakes\n",
    "ff_lv = A*Np/a_lv*100\n",
    "ff_hv = A*Ns*Nd/a_hv*100\n",
    "\n",
    "print('Filling factor in LV (primary) winding', round(ff_lv,2), '%')\n",
    "print('Filling factor in HV (secondary) winding',round(ff_hv,2), '%')\n",
    "\n",
    "I1 = 69.\n",
    "I2 = 1804.\n",
    "\n",
    "ae_lv = (a_lv*(ff_lv/100))\n",
    "ae_hv = (a_hv*(ff_hv/100))\n",
    "\n",
    "print(\"Amperturns should balanced:\", I1*Np, I2*Ns)\n",
    "\n",
    "j_lv = I1*Np/ae_lv\n",
    "j_hv = I2*Ns/ae_hv\n",
    "\n",
    "print(j_lv, ae_lv, a_lv)\n",
    "print(j_hv, ae_hv, a_hv)\n"
   ]
  },
  {
   "cell_type": "markdown",
   "id": "e373ae27",
   "metadata": {},
   "source": [
    "The core filling factor in the core's column was calculated from the other calculation of the turn voltage:"
   ]
  },
  {
   "cell_type": "code",
   "execution_count": 3,
   "id": "127ef7f2",
   "metadata": {},
   "outputs": [
    {
     "name": "stdout",
     "output_type": "stream",
     "text": [
      "turn voltage: 23.12 V\n",
      "SCI: 5.29 %\n"
     ]
    }
   ],
   "source": [
    "ut = turn_voltage(1.5, 155.0, 0.92, 50.0)\n",
    "print('turn voltage:',round(ut,2), 'V')\n",
    "\n",
    "sci = short_circuit_impedance(1250., 3, 50, 1.03, 23.1, 342.5, 0, 205, 13.5, 253, 8., 34.5)\n",
    "print('SCI:',sci, '%')"
   ]
  },
  {
   "cell_type": "code",
   "execution_count": 4,
   "id": "3482b1da",
   "metadata": {
    "scrolled": false
   },
   "outputs": [
    {
     "name": "stdout",
     "output_type": "stream",
     "text": [
      "lv:\n",
      "WindingDesign(inner_radius=205.1, thickness=13.5, winding_height=342.5, filling_factor=8.7, current_density=44.92, mass=10.3, dc_loss=0.0, ac_loss=1663063176110.1646, outer_radius=218.6, cable_length=1266227380015.736, amper_turns=18069.8)\n",
      "hv:\n",
      "WindingDesign(inner_radius=253.1, thickness=8.2, winding_height=356.2, filling_factor=11.6, current_density=53.45, mass=10.5, dc_loss=0.0, ac_loss=1695355664966.6724, outer_radius=261.3, cable_length=1290814319433.517, amper_turns=18109.8)\n"
     ]
    }
   ],
   "source": [
    "from importlib_resources import files\n",
    "from src.two_winding_model import TransformerDesign, TwoWindingModel\n",
    "\n",
    "path = files(\"data\").joinpath(\"1250kVA_sc_transformer.json\")\n",
    "\n",
    "import json\n",
    "\n",
    "with open(path) as json_file:\n",
    "    data = json.load(json_file)\n",
    "\n",
    "transformer = TransformerDesign.from_dict(data)\n",
    "\n",
    "trafo_model = TwoWindingModel(input=transformer)\n",
    "trafo_model.calculate(is_sc=True)\n",
    "print(\"lv:\")\n",
    "print(trafo_model.lv_winding)\n",
    "print(\"hv:\")\n",
    "print(trafo_model.hv_winding)"
   ]
  },
  {
   "cell_type": "code",
   "execution_count": 5,
   "id": "b66aa6e7",
   "metadata": {
    "scrolled": false
   },
   "outputs": [
    {
     "name": "stdout",
     "output_type": "stream",
     "text": [
      "Mesh Generator: Initial mesh generation\n",
      "Mesh generator: Triangle\n",
      "Mesh Generator: Reading initial mesh from memory\n",
      "Solver: Solver - MUMPS (none)\n",
      "Solver: Elapsed time: 00:00.848 s\n",
      "Magnetic Energy 36.1038335428817\n",
      "zb, ib: 88.2 ohm 68.73217490352688 A\n",
      "5.444329834787802\n",
      "Bax = 6.39 mT Brad = 0.29 mT\n"
     ]
    }
   ],
   "source": [
    "# FEM calculation\n",
    "trafo_model.fem_simulation()"
   ]
  },
  {
   "cell_type": "markdown",
   "id": "7e6581f3",
   "metadata": {},
   "source": [
    "The following command can list the main results of the calculation:"
   ]
  },
  {
   "cell_type": "code",
   "execution_count": 6,
   "id": "01690f90",
   "metadata": {
    "scrolled": false
   },
   "outputs": [
    {
     "name": "stdout",
     "output_type": "stream",
     "text": [
      "MainResults(wh=823.5, feasible=True, core_loss=2.2, load_loss=60451539350378.78, copper_mass=0.0, sci=4.8, window_width=140.7, core_mass=2942.5, turn_voltage=23.12, capitalized_cost=0.0, fem_based_sci=5.444329834787802, fem_bax=0.06387492585599336, fem_brad=0.0028508495546901713)\n",
      "analytical sci: 4.8\n"
     ]
    }
   ],
   "source": [
    "print(trafo_model.results)\n",
    "print('analytical sci:', trafo_model.results.sci)"
   ]
  },
  {
   "cell_type": "markdown",
   "id": "8c0b8cdb",
   "metadata": {},
   "source": [
    "The resulting fem-based short circuit impedance is 2.28 %, which is very close to the given 5.8 %, however, the analytically calculated sci is only 1.7%. The reason is that the analytical formula contains the turn voltage, which is different, the core somehow not sized properly. "
   ]
  },
  {
   "cell_type": "code",
   "execution_count": 7,
   "id": "475138aa",
   "metadata": {},
   "outputs": [
    {
     "name": "stdout",
     "output_type": "stream",
     "text": [
      "WindingDesign(inner_radius=205.1, thickness=13.5, winding_height=342.5, filling_factor=8.7, current_density=44.92, mass=10.3, dc_loss=0.0, ac_loss=1663063176110.1646, outer_radius=218.6, cable_length=1266227380015.736, amper_turns=18069.8)\n"
     ]
    }
   ],
   "source": [
    "print(trafo_model.lv_winding)"
   ]
  },
  {
   "cell_type": "code",
   "execution_count": 8,
   "id": "fb2d3bc8",
   "metadata": {},
   "outputs": [
    {
     "name": "stdout",
     "output_type": "stream",
     "text": [
      "629.24944\n",
      "23.16551206812867\n",
      "23.121387283236995\n"
     ]
    }
   ],
   "source": [
    "i1 = 909.32\n",
    "i2 = 34.64\n",
    "u1 = 0.4\n",
    "u2 = 10.5\n",
    "s1 = 1.73 * u1 * i1\n",
    "ratio = i1/i2\n",
    "print(s1)\n",
    "print(10500/262/1.73)\n",
    "print(400/10/1.73)"
   ]
  },
  {
   "cell_type": "code",
   "execution_count": 9,
   "id": "08d005a4",
   "metadata": {},
   "outputs": [
    {
     "name": "stdout",
     "output_type": "stream",
     "text": [
      "3.3186861313868614\n"
     ]
    }
   ],
   "source": [
    "jlv=i1*10/8/342.5\n",
    "print(jlv)"
   ]
  },
  {
   "cell_type": "code",
   "execution_count": 10,
   "id": "34f78f87",
   "metadata": {},
   "outputs": [
    {
     "name": "stdout",
     "output_type": "stream",
     "text": [
      "1.8937256129368805\n"
     ]
    }
   ],
   "source": [
    "print(i2*262/13.5/355)\n"
   ]
  },
  {
   "cell_type": "code",
   "execution_count": null,
   "id": "70926c1d",
   "metadata": {},
   "outputs": [],
   "source": []
  }
 ],
 "metadata": {
  "kernelspec": {
   "display_name": "Python 3 (ipykernel)",
   "language": "python",
   "name": "python3"
  },
  "language_info": {
   "codemirror_mode": {
    "name": "ipython",
    "version": 3
   },
   "file_extension": ".py",
   "mimetype": "text/x-python",
   "name": "python",
   "nbconvert_exporter": "python",
   "pygments_lexer": "ipython3",
   "version": "3.8.10"
  }
 },
 "nbformat": 4,
 "nbformat_minor": 5
}
