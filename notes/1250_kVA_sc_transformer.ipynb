{
 "cells": [
  {
   "cell_type": "markdown",
   "id": "8b0e7f20",
   "metadata": {},
   "source": [
    "Analysis of the winding parameters of a 1250 kVA Superconducting Transformer\n",
    "-------------------------------------------------------------------------------------------------------------------\n",
    "\n",
    "The transformer and its parameters originally published in DOI:10.1109/TASC.2014.2345349.\n",
    "\n",
    "Main parameters of the  transformer:\n",
    "\n",
    "- $S_n$ = 1250 kVA - nominal power\n",
    "- $f$ = 50 Hz - network frequency\n",
    "- $\\epsilon$ = 5.8 % - short circuit impedance\n",
    "- $U_1 / U_2$ = 10.5 kV / 0.4 kV\n",
    "- $I_1 / I_2$ = 69 A / 1804 A\n",
    "- Connection group: YNyn0\n"
   ]
  },
  {
   "cell_type": "code",
   "execution_count": 1,
   "id": "ebd7e707",
   "metadata": {},
   "outputs": [],
   "source": [
    "import os\n",
    "import sys\n",
    "parent_dir = os.path.split(os.getcwd())[0]\n",
    "if parent_dir not in sys.path:\n",
    "    sys.path.append(parent_dir)\n",
    "    \n",
    "from src.base_functions import turn_voltage,short_circuit_impedance"
   ]
  },
  {
   "cell_type": "markdown",
   "id": "1bca8758",
   "metadata": {},
   "source": [
    "Calculating the turn voltage from the winding parameters:"
   ]
  },
  {
   "cell_type": "code",
   "execution_count": 2,
   "id": "ce286072",
   "metadata": {
    "scrolled": true
   },
   "outputs": [
    {
     "name": "stdout",
     "output_type": "stream",
     "text": [
      "Turn voltage from primary winding data:  23.17 V\n",
      "Turn voltage from secondary winding data: 23.12 V\n",
      "Filling factor in LV (primary) winding 8.7 %\n",
      "Filling factor in HV (secondary) winding 11.9 %\n",
      "Amperturns should balanced: 18078.0 18040.0\n",
      "j in LV: 44.92 A/mm2 402.4 4623.8\n",
      "j in HV: 53.39 A/mm2 337.9 2840\n"
     ]
    }
   ],
   "source": [
    "# seconday - outer, primary inner winding\n",
    "Np = 262.0 # turns in the primary winding\n",
    "Up = 10500 # V \n",
    "utp = Up/Np/1.73\n",
    "print(\"Turn voltage from primary winding data: \", round(utp,2), \"V\")\n",
    "\n",
    "# secondary winding\n",
    "Ns = 10\n",
    "Us = 400\n",
    "uts= Us/1.73/Ns\n",
    "print(\"Turn voltage from secondary winding data:\",round(uts,2), \"V\")\n",
    "\n",
    "# BSSCO tape dimensions\n",
    "w = 4.8  # mm\n",
    "h = 0.32 # mm\n",
    "A = 4.8*0.32 # 1.536 mm2\n",
    "\n",
    "# Winding areas\n",
    "a_lv = 13.5 * 342.5 # mm\n",
    "a_hv = 8* 355\n",
    "\n",
    "Nd = 22 # number of discs/pancakes\n",
    "ff_lv = A*Np/a_lv*100\n",
    "ff_hv = A*Ns*Nd/a_hv*100\n",
    "\n",
    "print('Filling factor in LV (primary) winding', round(ff_lv,2), '%')\n",
    "print('Filling factor in HV (secondary) winding',round(ff_hv,2), '%')\n",
    "\n",
    "I1 = 69.\n",
    "I2 = 1804.\n",
    "\n",
    "ae_lv = (a_lv*(ff_lv/100))\n",
    "ae_hv = (a_hv*(ff_hv/100))\n",
    "\n",
    "print(\"Amperturns should balanced:\", I1*Np, I2*Ns)\n",
    "\n",
    "j_lv = I1*Np/ae_lv\n",
    "j_hv = I2*Ns/ae_hv\n",
    "\n",
    "print('j in LV:',round(j_lv,2), 'A/mm2', round(ae_lv,1), round(a_lv,1))\n",
    "print('j in HV:',round(j_hv,2), 'A/mm2', round(ae_hv,1), round(a_hv,1))\n"
   ]
  },
  {
   "cell_type": "markdown",
   "id": "9e540d2e",
   "metadata": {},
   "source": [
    "Independent design parameters for the two-winding transformer model:\n",
    "\n",
    "- $r_c$ core radius : 155 mm\n",
    "- $b_c$ flux density: 1.5 T\n",
    "- $j_{in}$ current density in the inner winding: 44.92 $A/mm^2$ -- 100% filling factor assumed\n",
    "- $j_{ou}$ current density in the outer winding: 53.39 $A/mm^2$\n",
    "- $h_{in}$ the height of the inner winding: 342.5 mm\n",
    "- $m_{gap}$ main gap - the distance between two main windings: 34.5 mm\n",
    "\n",
    "Cooling System:\n",
    "\n",
    "- Cryostat inner / outer diameter: 330/740 mm\n",
    "- Operation temperature: 77 K\n",
    "\n",
    "\n",
    "The core filling factor in the core's column was calculated from the other calculation of the turn voltage:"
   ]
  },
  {
   "cell_type": "code",
   "execution_count": 3,
   "id": "127ef7f2",
   "metadata": {},
   "outputs": [
    {
     "name": "stdout",
     "output_type": "stream",
     "text": [
      "turn voltage: 23.12 V\n",
      "SCI: 5.29 %\n"
     ]
    }
   ],
   "source": [
    "ut = turn_voltage(1.5, 155.0, 0.92, 50.0)\n",
    "print('turn voltage:',round(ut,2), 'V')\n",
    "\n",
    "sci = short_circuit_impedance(1250., 3, 50, 1.03, 23.1, 342.5, 0, 205, 13.5, 253, 8., 34.5)\n",
    "print('SCI:',sci, '%')"
   ]
  },
  {
   "cell_type": "markdown",
   "id": "c5afb19a",
   "metadata": {},
   "source": [
    "The calculated short circuit impedance (5.29%) is smaller than the given data in the paper, but it can be acceptable. Because the model contains a special HV winding where the size of  the top and bottom pancake is differs from the other parts of the winding.\n",
    "\n",
    "The goal of the following code calculates all of the parameters by the built-in two winding model of the transformer. All of the data of the LV and HV windings (inner/outer radius, losses, amperturns) calculated from the independent variables and  "
   ]
  },
  {
   "cell_type": "code",
   "execution_count": 4,
   "id": "3482b1da",
   "metadata": {
    "scrolled": true
   },
   "outputs": [
    {
     "name": "stdout",
     "output_type": "stream",
     "text": [
      "LV winding:\n",
      "WindingDesign(inner_radius=205.1, thickness=13.5, winding_height=342.5, filling_factor=8.7, current_density=44.92, mass=10.3, dc_loss=0.0, ac_loss=1663.0666171977766, outer_radius=218.6, cable_length=1266.23, amper_turns=18069.8)\n",
      "HV winding:\n",
      "WindingDesign(inner_radius=253.1, thickness=8.2, winding_height=356.2, filling_factor=11.6, current_density=53.45, mass=10.5, dc_loss=0.0, ac_loss=1695.3499918222296, outer_radius=261.3, cable_length=1290.81, amper_turns=18109.8)\n"
     ]
    }
   ],
   "source": [
    "from importlib_resources import files\n",
    "from src.two_winding_model import TransformerDesign, TwoWindingModel\n",
    "\n",
    "path = files(\"data\").joinpath(\"1250kVA_sc_transformer.json\")\n",
    "\n",
    "import json\n",
    "\n",
    "with open(path) as json_file:\n",
    "    data = json.load(json_file)\n",
    "\n",
    "transformer = TransformerDesign.from_dict(data)\n",
    "\n",
    "trafo_model = TwoWindingModel(input=transformer)\n",
    "trafo_model.calculate(is_sc=True)\n",
    "print(\"LV winding:\")\n",
    "print(trafo_model.lv_winding)\n",
    "print(\"HV winding:\")\n",
    "print(trafo_model.hv_winding)"
   ]
  },
  {
   "cell_type": "code",
   "execution_count": 5,
   "id": "94316d57",
   "metadata": {
    "scrolled": true
   },
   "outputs": [
    {
     "name": "stdout",
     "output_type": "stream",
     "text": [
      "Mesh Generator: Initial mesh generation\n",
      "Mesh generator: Triangle\n",
      "Mesh Generator: Reading initial mesh from memory\n",
      "Solver: Solver - MUMPS (none)\n",
      "Solver: Elapsed time: 00:00.756 s\n",
      "Magnetic Energy 36.1038335428817\n",
      "zb, ib: 88.2 ohm 68.73 A\n",
      "SCI: 5.44 [%]\n",
      "Bax [mT] = 63.88059481829217\n",
      "Brad [mT] = 34.931126895950015\n",
      "Values along the outer winding: [(0.029128001810690196, 0.034931126895950015), (0.050827730564536266, 0.013995471297917561), (0.05588725071682793, 0.008240268880776114), (0.05886954390963839, 0.005638255023196592), (0.06077329192829234, 0.004242084637681387), (0.06198176035801467, 0.003445644623909061), (0.06276385272892504, 0.002995500599112688), (0.06327437776653683, 0.002760552277617734), (0.06359944969665898, 0.002661568692436944), (0.06379442937349428, 0.0026641586971951625), (0.06388059481829217, 0.002728564552750612), (0.06386326031218509, 0.0028002328471558036), (0.06375556424426587, 0.0028587919261724437), (0.06355546873347745, 0.0028738248556079427), (0.06317272884807773, 0.0028134675986741797), (0.06259672900939289, 0.0026311711550385253), (0.061686454242632804, 0.0022513791514020554), (0.06025066397296713, 0.0015527807458504128), (0.05795286910805797, 0.000685192255041045), (0.054315535780667834, 0.003759431911852573), (0.048564227979538355, 0.010423416210258551)]\n"
     ]
    }
   ],
   "source": [
    "# FEM calculation\n",
    "trafo_model.fem_simulation()"
   ]
  },
  {
   "cell_type": "markdown",
   "id": "7e6581f3",
   "metadata": {},
   "source": [
    "Detailed calculation of the superconducting losses and validating the results in the comparison with the published papers:"
   ]
  },
  {
   "cell_type": "code",
   "execution_count": 8,
   "id": "70926c1d",
   "metadata": {},
   "outputs": [
    {
     "name": "stdout",
     "output_type": "stream",
     "text": [
      "a_cs: 3188323.844311941\n",
      "0.029077513460124906\n",
      "hv: 0.7448746890442886 W/m\n",
      "lv: 0.7693234418649139 ,W/m\n",
      "29.128001810690197 34.931126895950015 0.01864999814490323 0.6415251063070724\n",
      "50.82773056453627 13.995471297917561 0.09338117736158892 0.6954714319502531\n",
      "55.88725071682793 8.240268880776114 0.18166718997787898 0.7037897872187975\n",
      "58.86954390963839 5.638255023196592 0.2779429894040921 0.7057629943657476\n",
      "60.77329192829234 4.242084637681387 0.37931907234553014 0.7064154393870273\n",
      "61.98176035801467 3.445644623909061 0.4839327327133864 0.70670348265898\n",
      "62.76385272892504 2.995500599112688 0.5906416771144508 0.7068691309623825\n",
      "63.27437776653683 2.760552277617734 0.6987183563249161 0.7069889887729428\n",
      "63.59944969665898 2.661568692436944 0.8076659275810821 0.7070926888135985\n",
      "63.794429373494275 2.6641586971951625 0.917135863993678 0.7071967897271394\n",
      "63.88059481829217 2.728564552750612 1.0268366440858883 0.7073112350020259\n",
      "63.86326031218509 2.8002328471558036 1.1364909837380421 0.7074380687349637\n",
      "63.75556424426587 2.8587919261724437 1.2458567975587935 0.7075757426795602\n",
      "63.55546873347745 2.8738248556079427 1.354686540520826 0.7077163070479106\n",
      "63.17272884807773 2.8134675986741797 1.4624908946661683 0.707845533189665\n",
      "62.596729009392895 2.6311711550385253 1.5687521021065736 0.7079446137164962\n",
      "61.686454242632806 2.2513791514020554 1.6725746152756045 0.7079979565908217\n",
      "60.25066397296713 1.5527807458504128 1.7725505387846898 0.7080101028116189\n",
      "57.95286910805797 0.685192255041045 1.866370497766941 0.7080105654529067\n",
      "54.31553578066784 3.759431911852573 1.9504457683622372 0.7084166223788392\n",
      "48.56422797953835 10.423416210258551 2.019112854638148 0.7279937126512848\n",
      "hv average: 0.1419811079598136 W/m\n"
     ]
    }
   ],
   "source": [
    "from src.superconductor_losses import cryo_surface,cryostat_losses, magnusson_ac_loss, supra_winding_ac_loss\n",
    "a_cs = cryo_surface(205.0, 370, 800)  # [mm2]\n",
    "cryo_loss = cryostat_losses(a_cs)\n",
    "#thermal_loss = thermal_incomes(self.input.required.lv.ph_current, self.input.required.hv.ph_current)\n",
    "\n",
    "print('a_cs:',a_cs)\n",
    "#print('cryostat losses:', cryo_loss)\n",
    "print(cryo_loss)\n",
    "\n",
    "# HV winding\n",
    "print('hv:',magnusson_ac_loss(63.89*1e-3, 34.39*1e-3, 50, 69, Ic=115), 'W/m')\n",
    "print('lv:',magnusson_ac_loss(63.89*1e-3, 34.39*1e-3, 50, 1804/20, Ic=115), ',W/m')\n",
    "\n",
    "# Calculation with the averaged values of Bax and Brad along the winding\n",
    "B = [(0.029128001810690196, 0.034931126895950015), (0.050827730564536266, 0.013995471297917561), (0.05588725071682793, 0.008240268880776114), (0.05886954390963839, 0.005638255023196592), (0.06077329192829234, 0.004242084637681387), (0.06198176035801467, 0.003445644623909061), (0.06276385272892504, 0.002995500599112688), (0.06327437776653683, 0.002760552277617734), (0.06359944969665898, 0.002661568692436944), (0.06379442937349428, 0.0026641586971951625), (0.06388059481829217, 0.002728564552750612), (0.06386326031218509, 0.0028002328471558036), (0.06375556424426587, 0.0028587919261724437), (0.06355546873347745, 0.0028738248556079427), (0.06317272884807773, 0.0028134675986741797), (0.06259672900939289, 0.0026311711550385253), (0.061686454242632804, 0.0022513791514020554), (0.06025066397296713, 0.0015527807458504128), (0.05795286910805797, 0.000685192255041045), (0.054315535780667834, 0.003759431911852573), (0.048564227979538355, 0.010423416210258551)]\n",
    "print('hv average:',supra_winding_ac_loss(B, 50, 69, Ic=135), 'W/m')"
   ]
  },
  {
   "cell_type": "code",
   "execution_count": 10,
   "id": "95c9dee7",
   "metadata": {},
   "outputs": [
    {
     "name": "stdout",
     "output_type": "stream",
     "text": [
      "Values without average:\n",
      "1204.40352\n",
      "1201.9920000000002 894.282048\n",
      "Loss calculation for 21 segments in the hv winding:\n",
      "P_sec 170.65882416\n",
      "P_pri 168.61649280000003\n"
     ]
    }
   ],
   "source": [
    "print(\"Values without average:\")\n",
    "r_m = 244\n",
    "length = Np * 2*r_m*3.14 * 1e-3 \n",
    "print(length*3)\n",
    "\n",
    "length_sec = 10*22*2*3.14*1e-3*290\n",
    "loss_sec = 0.744 *length_sec*3\n",
    "print(length_sec*3, loss_sec)\n",
    "\n",
    "print(\"Loss calculation for 21 segments in the hv winding:\")\n",
    "print('P_sec', 0.14198*length_sec*3 )\n",
    "print('P_pri', 0.14*length*3)\n",
    "\n",
    "\n"
   ]
  },
  {
   "cell_type": "code",
   "execution_count": null,
   "id": "f05202fc",
   "metadata": {},
   "outputs": [],
   "source": []
  }
 ],
 "metadata": {
  "kernelspec": {
   "display_name": "Python 3 (ipykernel)",
   "language": "python",
   "name": "python3"
  },
  "language_info": {
   "codemirror_mode": {
    "name": "ipython",
    "version": 3
   },
   "file_extension": ".py",
   "mimetype": "text/x-python",
   "name": "python",
   "nbconvert_exporter": "python",
   "pygments_lexer": "ipython3",
   "version": "3.8.10"
  }
 },
 "nbformat": 4,
 "nbformat_minor": 5
}
