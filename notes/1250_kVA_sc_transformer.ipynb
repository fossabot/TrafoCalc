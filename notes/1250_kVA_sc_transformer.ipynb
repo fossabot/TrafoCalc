{
 "cells": [
  {
   "cell_type": "markdown",
   "id": "a9845c86",
   "metadata": {},
   "source": [
    "Analysis of the winding parameters of a 1250 kVA Superconducting Transformer\n",
    "-------------------------------------------------------------------------------------------------------------------\n",
    "\n",
    "The transformer and its parameters originally published in DOI:10.1109/TASC.2014.2345349.\n",
    "\n",
    "Main parameters of the  transformer:\n",
    "\n",
    "- $S_n$ = 1250 kVA - nominal power\n",
    "- $f$ = 50 Hz - network frequency\n",
    "- $\\epsilon$ = 5.8 % - short circuit impedance\n",
    "- $U_1 / U_2$ = 10.5 kV / 0.4 kV\n",
    "- $I_1 / I_2$ = 69 A / 1804 A\n",
    "- Connection group: YNyn0\n",
    "\n",
    "Independent design parameters for the two-winding transformer model:\n",
    "\n",
    "- $r_c$ core radius : 155 mm\n",
    "- $b_c$ flux density: 1.5 T\n",
    "- $j_{in}$ current density in the inner winding: 4.05 $A/mm^2$ -- 100% filling factor assumed\n",
    "- $j_{ou}$ current density in the outer winding: 6.2 $A/mm^2$\n",
    "- $h_{in}$ the height of the inner winding: 342.5 mm\n",
    "- $m_{gap}$ main gap - the distance between two main windings: 34.5 mm\n",
    "\n",
    "Cooling System:\n",
    "\n",
    "- Cryostat inner / outer diameter: 330/740 mm\n",
    "- Operation temperature: 77 K\n"
   ]
  },
  {
   "cell_type": "code",
   "execution_count": 1,
   "id": "ebd7e707",
   "metadata": {},
   "outputs": [],
   "source": [
    "import os\n",
    "import sys\n",
    "parent_dir = os.path.split(os.getcwd())[0]\n",
    "if parent_dir not in sys.path:\n",
    "    sys.path.append(parent_dir)\n",
    "    \n",
    "from src.base_functions import turn_voltage"
   ]
  },
  {
   "cell_type": "markdown",
   "id": "1bca8758",
   "metadata": {},
   "source": [
    "Calculating the turn voltage from the winding parameters:"
   ]
  },
  {
   "cell_type": "code",
   "execution_count": 19,
   "id": "ce286072",
   "metadata": {},
   "outputs": [
    {
     "name": "stdout",
     "output_type": "stream",
     "text": [
      "Turn voltage from primary winding data:  23.17 V\n",
      "Turn voltage from secondary winding data: 23.12 V\n",
      "Filling factor in LV (primary) winding 8.7 %\n",
      "Filling factor in HV (secondary) winding 11.9 %\n",
      "1174.4791666666665 402.432 4623.75\n",
      "44.92187500000001 337.91999999999996\n"
     ]
    }
   ],
   "source": [
    "# seconday - outer, primary inner winding\n",
    "Np = 262.0 # turns in the primary winding\n",
    "Up = 10500 # V \n",
    "utp = Up/Np/1.73\n",
    "print(\"Turn voltage from primary winding data: \", round(utp,2), \"V\")\n",
    "\n",
    "# secondary winding\n",
    "Ns = 10\n",
    "Us = 400\n",
    "uts= Us/1.73/Ns\n",
    "print(\"Turn voltage from secondary winding data:\",round(uts,2), \"V\")\n",
    "\n",
    "# BSSCO tape dimensions\n",
    "w = 4.8  # mm\n",
    "h = 0.32 # mm\n",
    "A = 4.8*0.32 # 1.536 mm2\n",
    "\n",
    "# Winding areas\n",
    "a_lv = 13.5 * 342.5 # mm\n",
    "a_hv = 8* 355\n",
    "\n",
    "Nd = 22 # number of discs/pancakes\n",
    "ff_lv = A*Np/a_lv*100\n",
    "ff_hv = A*Ns*Nd/a_hv*100\n",
    "\n",
    "print('Filling factor in LV (primary) winding', round(ff_lv,2), '%')\n",
    "print('Filling factor in HV (secondary) winding',round(ff_hv,2), '%')\n",
    "\n",
    "I1 = 69.\n",
    "I2 = 1804.\n",
    "\n",
    "ae_lv = (a_lv*(ff_lv/100))\n",
    "ae_hv = (a_hv*(hh_hv/100))\n",
    "\n",
    "j_lv = I2*Np/ae_lv\n",
    "j_hv = I1*Nd*Ns/ae_hv\n",
    "\n",
    "print(j_lv, ae_lv, a_lv)\n",
    "print(j_hv, ae_hv, a_hv)\n"
   ]
  },
  {
   "cell_type": "markdown",
   "id": "ba6db968",
   "metadata": {},
   "source": [
    "The core filling factor in the core's column was calculated from the other calculation of the turn voltage:"
   ]
  },
  {
   "cell_type": "code",
   "execution_count": 3,
   "id": "127ef7f2",
   "metadata": {},
   "outputs": [
    {
     "name": "stdout",
     "output_type": "stream",
     "text": [
      "turn voltage: 23.12 V\n"
     ]
    }
   ],
   "source": [
    "ut = turn_voltage(1.5, 155.0, 0.92, 50.0)\n",
    "print('turn voltage:',round(ut,2), 'V')"
   ]
  },
  {
   "cell_type": "code",
   "execution_count": 4,
   "id": "3482b1da",
   "metadata": {
    "scrolled": true
   },
   "outputs": [
    {
     "name": "stdout",
     "output_type": "stream",
     "text": [
      "WindingDesign(inner_radius=205.0, thickness=13.41541620852261, winding_height=342.5, filling_factor=100.0, current_density=4.1, mass=117.34983804213182, dc_loss=0.0, ac_loss=18947591686442.832, outer_radius=218.4154162085226, cable_length=14426366793141.701)\n"
     ]
    }
   ],
   "source": [
    "from importlib_resources import files\n",
    "from src.two_winding_model import TransformerDesign, TwoWindingModel\n",
    "\n",
    "path = files(\"data\").joinpath(\"1250kVA_sc_transformer.json\")\n",
    "\n",
    "import json\n",
    "\n",
    "with open(path) as json_file:\n",
    "    data = json.load(json_file)\n",
    "\n",
    "transformer = TransformerDesign.from_dict(data)\n",
    "\n",
    "trafo_model = TwoWindingModel(input=transformer)\n",
    "trafo_model.calculate(is_sc=True)\n",
    "print(trafo_model.lv_winding)"
   ]
  },
  {
   "cell_type": "code",
   "execution_count": 5,
   "id": "beb9d32c",
   "metadata": {},
   "outputs": [
    {
     "name": "stdout",
     "output_type": "stream",
     "text": [
      "Mesh Generator: Initial mesh generation\n",
      "Mesh generator: Triangle\n",
      "Mesh Generator: Reading initial mesh from memory\n",
      "Solver: Solver - MUMPS (none)\n",
      "Solver: Adaptivity step: 1 (error: 100 %, DOFs: 80841)\n",
      "Solver: Solver - MUMPS (none)\n",
      "Solver: Adaptivity step: 2 (error: 484.577 %, DOFs: 71395)\n",
      "Solver: Solver - MUMPS (none)\n",
      "Solver: Adaptivity step: 3 (error: 1.37177e-06 %, DOFs: 79731)\n",
      "Solver: Elapsed time: 00:05.809 s\n",
      "47.5176863269466\n",
      "L: 2.9194866479275986e-05\n",
      "zb, ib: 0.12800000000000003 1804.2195912175807\n",
      "7.165498285455338\n",
      "0.06368600018945325 0.046823955996588396\n"
     ]
    }
   ],
   "source": [
    "# FEM calculation\n",
    "trafo_model.fem_simulation()"
   ]
  },
  {
   "cell_type": "markdown",
   "id": "7e6581f3",
   "metadata": {},
   "source": [
    "The following command can list the main results of the calculation:"
   ]
  },
  {
   "cell_type": "code",
   "execution_count": 6,
   "id": "01690f90",
   "metadata": {
    "scrolled": false
   },
   "outputs": [
    {
     "name": "stdout",
     "output_type": "stream",
     "text": [
      "MainResults(wh=809.5, feasible=True, core_loss=2.063667892391339, load_loss=615055003917038.9, copper_mass=0.0, sci=0.05264094474342352, window_width=140.97862558312448, core_mass=2794.3887336839307, turn_voltage=22.11771077677107, capitalized_cost=0.0, fem_based_sci=7.165498285455338, fem_bax=0.06368600018945325, fem_brad=0.046823955996588396)\n",
      "analytical sci: 0.05264094474342352\n"
     ]
    }
   ],
   "source": [
    "print(trafo_model.results)\n",
    "print('analytical sci:', trafo_model.results.sci)"
   ]
  },
  {
   "cell_type": "markdown",
   "id": "8c0b8cdb",
   "metadata": {},
   "source": [
    "The resulting fem-based short circuit impedance is 2.28 %, which is very close to the given 2.45 %, however, the analytically calculated sci is only 1.7%. The reason is that the analytical formula contains the turn voltage, which is different, the core somehow not sized properly. "
   ]
  },
  {
   "cell_type": "code",
   "execution_count": 7,
   "id": "cf54e40c",
   "metadata": {},
   "outputs": [
    {
     "name": "stdout",
     "output_type": "stream",
     "text": [
      "WindingDesign(inner_radius=252.91541620852266, thickness=8.563209374601865, winding_height=354.83, filling_factor=100.0, current_density=6.2, mass=94.27660289270821, dc_loss=0.0, ac_loss=15222130741711.072, outer_radius=261.47862558312454, cable_length=11589865619186.201)\n"
     ]
    }
   ],
   "source": [
    "print(trafo_model.hv_winding)"
   ]
  },
  {
   "cell_type": "code",
   "execution_count": 8,
   "id": "475138aa",
   "metadata": {},
   "outputs": [
    {
     "name": "stdout",
     "output_type": "stream",
     "text": [
      "WindingDesign(inner_radius=205.0, thickness=13.41541620852261, winding_height=342.5, filling_factor=100.0, current_density=4.1, mass=117.34983804213182, dc_loss=0.0, ac_loss=18947591686442.832, outer_radius=218.4154162085226, cable_length=14426366793141.701)\n"
     ]
    }
   ],
   "source": [
    "print(trafo_model.lv_winding)"
   ]
  },
  {
   "cell_type": "code",
   "execution_count": 9,
   "id": "fb2d3bc8",
   "metadata": {},
   "outputs": [
    {
     "name": "stdout",
     "output_type": "stream",
     "text": [
      "629.24944\n",
      "23.16551206812867\n",
      "23.121387283236995\n"
     ]
    }
   ],
   "source": [
    "i1 = 909.32\n",
    "i2 = 34.64\n",
    "u1 = 0.4\n",
    "u2 = 10.5\n",
    "s1 = 1.73 * u1 * i1\n",
    "ratio = i1/i2\n",
    "print(s1)\n",
    "print(10500/262/1.73)\n",
    "print(400/10/1.73)"
   ]
  },
  {
   "cell_type": "code",
   "execution_count": 10,
   "id": "08d005a4",
   "metadata": {},
   "outputs": [
    {
     "name": "stdout",
     "output_type": "stream",
     "text": [
      "3.3186861313868614\n"
     ]
    }
   ],
   "source": [
    "jlv=i1*10/8/342.5\n",
    "print(jlv)"
   ]
  },
  {
   "cell_type": "code",
   "execution_count": 11,
   "id": "34f78f87",
   "metadata": {},
   "outputs": [
    {
     "name": "stdout",
     "output_type": "stream",
     "text": [
      "1.8937256129368805\n"
     ]
    }
   ],
   "source": [
    "print(i2*262/13.5/355)\n"
   ]
  },
  {
   "cell_type": "code",
   "execution_count": null,
   "id": "70926c1d",
   "metadata": {},
   "outputs": [],
   "source": []
  }
 ],
 "metadata": {
  "kernelspec": {
   "display_name": "Python 3 (ipykernel)",
   "language": "python",
   "name": "python3"
  },
  "language_info": {
   "codemirror_mode": {
    "name": "ipython",
    "version": 3
   },
   "file_extension": ".py",
   "mimetype": "text/x-python",
   "name": "python",
   "nbconvert_exporter": "python",
   "pygments_lexer": "ipython3",
   "version": "3.8.10"
  }
 },
 "nbformat": 4,
 "nbformat_minor": 5
}
