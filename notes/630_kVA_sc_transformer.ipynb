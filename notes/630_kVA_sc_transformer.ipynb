{
 "cells": [
  {
   "cell_type": "code",
   "execution_count": 16,
   "id": "ebd7e707",
   "metadata": {},
   "outputs": [],
   "source": [
    "import os\n",
    "import sys\n",
    "parent_dir = os.path.split(os.getcwd())[0]\n",
    "if parent_dir not in sys.path:\n",
    "    sys.path.append(parent_dir)\n",
    "    \n",
    "from src.base_functions import turn_voltage\n",
    "from src.superconductor_losses import thermal_incomes, cryo_surface,cryostat_losses"
   ]
  },
  {
   "cell_type": "markdown",
   "id": "1bca8758",
   "metadata": {},
   "source": [
    "The following code snippets try to check the correctness of the transformer parameters, defined by doi.org/10.1088/0953-2048/20/5/010\n",
    "\n",
    "The turn voltage calculated in 2 different ways:\n",
    "   - from the core parameters\n",
    "   - from the given line/phase voltages and turn number of the windings\n",
    "\n",
    "The given parameters of the transformer core are:\n",
    " - the core diameter is 396 mm, the core radius is 198 mm\n",
    " - the flux density in the core is 1.275 T\n",
    " - the filling factor of the core was not given, we calculating by a usual 88 %\n",
    " - the network frequency is 50 Hz\n",
    " \n",
    "Using the turn voltage base function of the library:"
   ]
  },
  {
   "cell_type": "code",
   "execution_count": 2,
   "id": "127ef7f2",
   "metadata": {},
   "outputs": [
    {
     "name": "stdout",
     "output_type": "stream",
     "text": [
      "turn voltage: 30.68 V\n"
     ]
    }
   ],
   "source": [
    "ut = turn_voltage(1.275, 198.0, 0.88, 50.0)\n",
    "print('turn voltage:',round(ut,2), 'V')"
   ]
  },
  {
   "cell_type": "markdown",
   "id": "ae8a3810",
   "metadata": {},
   "source": [
    "Turn voltage can be calculated from the winding parameters of the star/star connected three phase transformer:"
   ]
  },
  {
   "cell_type": "code",
   "execution_count": 3,
   "id": "ce286072",
   "metadata": {},
   "outputs": [
    {
     "name": "stdout",
     "output_type": "stream",
     "text": [
      "Turn voltage from primary winding data:  23.17 V\n",
      "Turn voltage from secondary winding data: 23.12 V\n"
     ]
    }
   ],
   "source": [
    "Np = 262.0 # turns in the primary winding\n",
    "Up = 10500 # V \n",
    "utp = Up/Np/1.73\n",
    "print(\"Turn voltage from primary winding data: \", round(utp,2), \"V\")\n",
    "\n",
    "# secondary winding\n",
    "Ns = 10\n",
    "Us = 400\n",
    "uts= Us/1.73/Ns\n",
    "print(\"Turn voltage from secondary winding data:\",round(uts,2), \"V\")"
   ]
  },
  {
   "cell_type": "markdown",
   "id": "998e1c7f",
   "metadata": {},
   "source": [
    "Therefore, some parameter of the core is wrong, maybe the flux density of the core is a bit lower in the practice, in this case the flux density should be 0.963 T"
   ]
  },
  {
   "cell_type": "code",
   "execution_count": 30,
   "id": "4c03c191",
   "metadata": {
    "scrolled": true
   },
   "outputs": [
    {
     "name": "stdout",
     "output_type": "stream",
     "text": [
      "22.87\n"
     ]
    }
   ],
   "source": [
    "ut = turn_voltage(1.275, 170.0, 0.89, 50.0)\n",
    "print(ut)"
   ]
  },
  {
   "cell_type": "code",
   "execution_count": 5,
   "id": "3482b1da",
   "metadata": {
    "scrolled": true
   },
   "outputs": [
    {
     "name": "stdout",
     "output_type": "stream",
     "text": [
      "Mesh Generator: Initial mesh generation\n",
      "Mesh generator: Triangle\n",
      "Mesh Generator: Reading initial mesh from memory\n",
      "Solver: Solver - MUMPS (none)\n",
      "Solver: Elapsed time: 00:01.214 s\n",
      "Magnetic Energy 10.102712946381097\n",
      "zb, ib: 0.25 ohm 909.33 A\n",
      "SCI: 3.02 [%]\n",
      "Bax  [HV] = 24.18 [mT]\n",
      "Brad [HV] = 12.7 [mT]\n",
      "Bax  [LV] = 11.91 [mT]\n",
      "Brad [Lv] = 13.69 [mT]\n"
     ]
    }
   ],
   "source": [
    "from importlib_resources import files\n",
    "from src.two_winding_model import TransformerDesign, TwoWindingModel\n",
    "\n",
    "path = files(\"data\").joinpath(\"630kVA_sc_transformer.json\")\n",
    "\n",
    "import json\n",
    "\n",
    "with open(path) as json_file:\n",
    "    data = json.load(json_file)\n",
    "\n",
    "transformer = TransformerDesign.from_dict(data)\n",
    "\n",
    "trafo_model = TwoWindingModel(input=transformer)\n",
    "trafo_model.calculate(is_sc=True)\n",
    "\n",
    "# FEM calculation\n",
    "trafo_model.fem_simulation(detailed_output = False)"
   ]
  },
  {
   "cell_type": "markdown",
   "id": "7e6581f3",
   "metadata": {},
   "source": [
    "The following command can list the main results of the calculation:"
   ]
  },
  {
   "cell_type": "code",
   "execution_count": 6,
   "id": "cf54e40c",
   "metadata": {},
   "outputs": [
    {
     "name": "stdout",
     "output_type": "stream",
     "text": [
      "WindingDesign(inner_radius=288.5, thickness=10.2, winding_height=354.83, filling_factor=50.0, current_density=3.78, mass=64.1, dc_loss=0.0, ac_loss=10349.737315374277, outer_radius=298.7, cable_length=7880.11, amper_turns=6840.4)\n"
     ]
    }
   ],
   "source": [
    "print(trafo_model.hv_winding)"
   ]
  },
  {
   "cell_type": "code",
   "execution_count": 7,
   "id": "475138aa",
   "metadata": {},
   "outputs": [
    {
     "name": "stdout",
     "output_type": "stream",
     "text": [
      "WindingDesign(inner_radius=244.0, thickness=6.0, winding_height=342.5, filling_factor=50.0, current_density=6.62, mass=30.6, dc_loss=0.0, ac_loss=4940.748521654515, outer_radius=250.0, cable_length=3761.8, amper_turns=6802.1)\n"
     ]
    }
   ],
   "source": [
    "print(trafo_model.lv_winding)"
   ]
  },
  {
   "cell_type": "code",
   "execution_count": 25,
   "id": "01690f90",
   "metadata": {
    "scrolled": false
   },
   "outputs": [
    {
     "name": "stdout",
     "output_type": "stream",
     "text": [
      "Magnetic EnergyMesh Generator: Initial mesh generation\n",
      " 10.102712943262212\n",
      "zb, ib: 0.25 ohm 909.33 A\n",
      "SCI: 3.02 [%]\n",
      "Mesh generator: Triangle\n",
      "Mesh Generator: Reading initial mesh from memory\n",
      "Solver: Solver - MUMPS (none)\n",
      "Solver: Elapsed time: 00:01.202 s\n",
      "Bax  [HV] = 24.18 [mT]\n",
      "Brad [HV] = 12.7 [mT]\n",
      "Bax  [LV] = 11.91 [mT]\n",
      "Brad [Lv] = 13.69 [mT]\n",
      "analytical sci: 1.67\n"
     ]
    }
   ],
   "source": [
    "trafo_model.fem_simulation(detailed_output = False)\n",
    "print('analytical sci:', trafo_model.results.sci)"
   ]
  },
  {
   "cell_type": "markdown",
   "id": "8c0b8cdb",
   "metadata": {},
   "source": [
    "The resulting fem-based short circuit impedance is 2.28 %, which is very close to the given 2.45 %, however, the analytically calculated sci is only 1.7%. The reason is that the analytical formula contains the turn voltage, which is different, the core somehow not sized properly. "
   ]
  },
  {
   "cell_type": "code",
   "execution_count": 26,
   "id": "70926c1d",
   "metadata": {},
   "outputs": [
    {
     "name": "stdout",
     "output_type": "stream",
     "text": [
      "a_cs: 3188323.844311941\n",
      "29.08\n",
      "hv: 0.05106904243619691 W/m\n",
      "lv: 0.05488619049790877 ,W/m\n",
      "hv average: 0.018 W/m\n",
      "lv average: 0.018 W/m\n"
     ]
    }
   ],
   "source": [
    "from src.superconductor_losses import cryo_surface,cryostat_losses, magnusson_ac_loss, supra_winding_ac_loss\n",
    "a_cs = cryo_surface(205.0, 370, 800)  # [mm2]\n",
    "cryo_loss = cryostat_losses(a_cs)\n",
    "#thermal_loss = thermal_incomes(self.input.required.lv.ph_current, self.input.required.hv.ph_current)\n",
    "\n",
    "print('a_cs:',a_cs)\n",
    "#print('cryostat losses:', cryo_loss)\n",
    "print(cryo_loss)\n",
    "\n",
    "# HV winding\n",
    "print('hv:',magnusson_ac_loss(24.2*1e-3, 12.7*1e-3, 50, 34.5, Ic=115), 'W/m')\n",
    "print('lv:',magnusson_ac_loss(11.9*1e-3, 13.7*1e-3, 50, 902/20, Ic=115), ',W/m')\n",
    "\n",
    "# Calculation with the averaged values of Bax and Brad along the winding\n",
    "B_hv =  [(0.011433322839513704, 0.012699025485460425), (0.018933806949452736, 0.005230937068120056), (0.020965518246982395, 0.0030748333510217662), (0.022150364633813535, 0.0020912742032237475), (0.02290724530387911, 0.0015658509766911521), (0.02339652266536152, 0.0012678793822082923), (0.023725376383052166, 0.00109892273180634), (0.023935062181081213, 0.0010086370273540979), (0.024068554631890116, 0.0009674387479634561), (0.024149590760132067, 0.000958728315879398), (0.02417897594277435, 0.0009844094746398468), (0.02417202624967385, 0.0010112760123917042), (0.024127634300657175, 0.0010374720680452754), (0.02402747475883754, 0.0010415087262813927), (0.023868892182893786, 0.001022807939854431), (0.023623027309799538, 0.0009612379640060453), (0.02321806402269372, 0.0008331465044477682), (0.022639879555103826, 0.000608199029066725), (0.021680382237800555, 0.00042832155749295), (0.020217882565412737, 0.0016489134058446098), (0.01783499675174277, 0.004253943059708831)]\n",
    "print('hv average:',supra_winding_ac_loss(B_hv, 50, 69, Ic=170, kappa=2.0), 'W/m')\n",
    "\n",
    "B_lv = [(0.011433322839513704, 0.012699025485460425), (0.018933806949452736, 0.005230937068120056), (0.020965518246982395, 0.0030748333510217662), (0.022150364633813535, 0.0020912742032237475), (0.02290724530387911, 0.0015658509766911521), (0.02339652266536152, 0.0012678793822082923), (0.023725376383052166, 0.00109892273180634), (0.023935062181081213, 0.0010086370273540979), (0.024068554631890116, 0.0009674387479634561), (0.024149590760132067, 0.000958728315879398), (0.02417897594277435, 0.0009844094746398468), (0.02417202624967385, 0.0010112760123917042), (0.024127634300657175, 0.0010374720680452754), (0.02402747475883754, 0.0010415087262813927), (0.023868892182893786, 0.001022807939854431), (0.023623027309799538, 0.0009612379640060453), (0.02321806402269372, 0.0008331465044477682), (0.022639879555103826, 0.000608199029066725), (0.021680382237800555, 0.00042832155749295), (0.020217882565412737, 0.0016489134058446098), (0.01783499675174277, 0.004253943059708831)]\n",
    "print('lv average:',supra_winding_ac_loss(B_lv, 50, 69, Ic=170, kappa=1.5), 'W/m')\n"
   ]
  },
  {
   "cell_type": "code",
   "execution_count": 27,
   "id": "2e8c04de",
   "metadata": {
    "scrolled": true
   },
   "outputs": [
    {
     "name": "stdout",
     "output_type": "stream",
     "text": [
      "Values without average:\n",
      "1204.40352\n",
      "1201.9920000000002 894.282048\n",
      "Loss calculation for 21 segments in the hv winding:\n",
      "P_sec 61.301592\n",
      "P_pri 66.24219360000001\n"
     ]
    }
   ],
   "source": [
    "print(\"Values without average:\")\n",
    "r_m = 244\n",
    "length = Np * 2*r_m*3.14 * 1e-3 \n",
    "print(length*3)\n",
    "\n",
    "length_sec = 10*22*2*3.14*1e-3*290\n",
    "loss_sec = 0.744 *length_sec*3\n",
    "print(length_sec*3, loss_sec)\n",
    "\n",
    "print(\"Loss calculation for 21 segments in the hv winding:\")\n",
    "print('P_sec', 0.051*length_sec*3 )\n",
    "print('P_pri', 0.055*length*3)\n",
    "\n"
   ]
  },
  {
   "cell_type": "code",
   "execution_count": 29,
   "id": "3d37307d",
   "metadata": {},
   "outputs": [
    {
     "name": "stdout",
     "output_type": "stream",
     "text": [
      "P_ac (max) =  128\n",
      "P_ac (avg) =  43\n"
     ]
    }
   ],
   "source": [
    "P_ac_max = length*0.051*3 + length_sec*0.055*3\n",
    "P_ac_avg = length*0.018*3 + length_sec*0.018*3\n",
    "\n",
    "print('P_ac (max) = ', round(P_ac_max))\n",
    "print('P_ac (avg) = ',round(P_ac_avg))"
   ]
  },
  {
   "cell_type": "code",
   "execution_count": 19,
   "id": "be30eb20",
   "metadata": {},
   "outputs": [
    {
     "name": "stdout",
     "output_type": "stream",
     "text": [
      "Thermal losses: 254.75 W\n"
     ]
    }
   ],
   "source": [
    "pt = thermal_incomes(34.5,909)\n",
    "print('Thermal losses:', pt, 'W')"
   ]
  },
  {
   "cell_type": "code",
   "execution_count": null,
   "id": "be2cadfa",
   "metadata": {},
   "outputs": [],
   "source": []
  }
 ],
 "metadata": {
  "kernelspec": {
   "display_name": "Python 3 (ipykernel)",
   "language": "python",
   "name": "python3"
  },
  "language_info": {
   "codemirror_mode": {
    "name": "ipython",
    "version": 3
   },
   "file_extension": ".py",
   "mimetype": "text/x-python",
   "name": "python",
   "nbconvert_exporter": "python",
   "pygments_lexer": "ipython3",
   "version": "3.8.10"
  }
 },
 "nbformat": 4,
 "nbformat_minor": 5
}
